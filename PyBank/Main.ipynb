{
 "cells": [
  {
   "cell_type": "code",
   "execution_count": 96,
   "id": "0d26017e-a3e9-44a1-9691-6dc0d0bfe7c8",
   "metadata": {},
   "outputs": [],
   "source": [
    "#create path for csv file\n",
    "from pathlib import Path\n",
    "import csv\n",
    "\n",
    "csv_file_path = Path('budget_data.csv')\n"
   ]
  },
  {
   "cell_type": "code",
   "execution_count": 97,
   "id": "3521db27-7de1-4370-b535-9d02625d02a7",
   "metadata": {},
   "outputs": [],
   "source": [
    "#create variables\n",
    "months = 0\n",
    "different = 0\n",
    "different_maximum = 0\n",
    "different_minimum = 0\n",
    "total = 0\n",
    "before_value = 0\n",
    "avg = 0"
   ]
  },
  {
   "cell_type": "code",
   "execution_count": 98,
   "id": "af28d5f0-7715-4755-bb46-39577fa8cc2a",
   "metadata": {},
   "outputs": [],
   "source": [
    "\n",
    "with open(csv_file_path, newline='') as csv_file:\n",
    "     csv_read = csv.reader(csv_file, delimiter=',')\n",
    "     csv_header = next(csv_read)\n",
    "    \n",
    "    \n",
    "     for x in csv_read:\n",
    "         month = x[0]\n",
    "         Amount = x[1]\n",
    "         int_Amount = int(Amount)\n",
    "         different =  int_Amount - before_value\n",
    "         # find total months\n",
    "         months = months + 1\n",
    "         total += int(Amount) \n",
    "         avg = different / total\n",
    "            \n",
    "        # find largest decrease \n",
    "         if different_minimum > different:\n",
    "            different_minimum = different\n",
    "            different_minimum_date = month\n",
    "         # find largest increase\n",
    "            \n",
    "         if different_maximum < different:\n",
    "            different_maximum = different\n",
    "            different_maximum_date = month\n",
    "         \n",
    "         \n",
    "\n",
    "         before_value = int_Amount   \n"
   ]
  },
  {
   "cell_type": "code",
   "execution_count": 99,
   "id": "9d6420eb-d58b-430f-b922-7a9e87c15116",
   "metadata": {},
   "outputs": [
    {
     "name": "stdout",
     "output_type": "stream",
     "text": [
      "Spencer's Financial Analysis\n",
      "----------------------------\n",
      "Total Months: 86\n",
      "Total: $38382578\n",
      "The average is 0.013883095606553578 \n",
      "Greatest Decrease in Profits: Sep-2013 : ($-2196167)\n",
      "Greatest Increase in Profits: Feb-2012 : ($1926159)\n"
     ]
    }
   ],
   "source": [
    "# create analysis format\n",
    "print(f\"Spencer's Financial Analysis\")\n",
    "print(f\"----------------------------\")\n",
    "print(f\"Total Months: {months}\")\n",
    "print(f\"Total: ${total}\")\n",
    "print(f\"The average is {avg} \")\n",
    "print(f\"Greatest Decrease in Profits: {different_minimum_date} : (${different_minimum})\")\n",
    "print(f\"Greatest Increase in Profits: {different_maximum_date} : (${different_maximum})\")"
   ]
  },
  {
   "cell_type": "code",
   "execution_count": null,
   "id": "a52c9637-b2c2-4cad-a0cd-c0fbfbd9810d",
   "metadata": {},
   "outputs": [],
   "source": []
  }
 ],
 "metadata": {
  "kernelspec": {
   "display_name": "Python 3 (ipykernel)",
   "language": "python",
   "name": "python3"
  },
  "language_info": {
   "codemirror_mode": {
    "name": "ipython",
    "version": 3
   },
   "file_extension": ".py",
   "mimetype": "text/x-python",
   "name": "python",
   "nbconvert_exporter": "python",
   "pygments_lexer": "ipython3",
   "version": "3.7.13"
  }
 },
 "nbformat": 4,
 "nbformat_minor": 5
}
